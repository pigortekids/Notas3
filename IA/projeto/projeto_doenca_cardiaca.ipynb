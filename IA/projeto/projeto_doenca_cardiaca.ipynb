{
 "cells": [
  {
   "cell_type": "markdown",
   "metadata": {},
   "source": [
    "# Variáveis:\n",
    "### Sex (male) :\n",
    "**Sexo** : male or female(Nominal)\n",
    "### Age (age) :\n",
    "**Idade** : *Age of the patient;(Continuous - Although the recorded ages have been truncated to whole numbers, the concept of age is continuous) Behavioral*\n",
    "### Education (education) :\n",
    "### Current Smoker (currentSmoker) :\n",
    "**Fumante** : *whether or not the patient is a current smoker (Nominal)*\n",
    "### Cigs Per Day (cigsPerDay) :\n",
    "**Cigarros por dia** : *the number of cigarettes that the person smoked on average in one day.(can be considered continuous as one can have any number of cigarettes, even half a cigarette.) Medical( history)*\n",
    "### BP Meds (BPMeds) :\n",
    "**Estava tomando remédio de pressão sanguínea** : *whether or not the patient was on blood pressure medication (Nominal)*\n",
    "### Prevalent Stroke (prevalentStroke) :\n",
    "**Já teve derrame** : *whether or not the patient had previously had a stroke (Nominal)*\n",
    "### Prevalent Hyp (prevalentHyp) :\n",
    "**Tem hipertensão arterial (pressão alta)** : *whether or not the patient was hypertensive (Nominal)*\n",
    "### Diabetes (diabetes) :\n",
    "**Tem diabetes** : *whether or not the patient had diabetes (Nominal) Medical(current)*\n",
    "### Tot Chol (totChol) :\n",
    "**Nivel do colesterol** : *total cholesterol level (Continuous)*\n",
    "* menor ou igual a 200 = bom\n",
    "* maior que 200 e menor ou igual a 239 = elevado\n",
    "* maior 240 = alto\n",
    "\n",
    "### Sys BP (sysBP) :\n",
    "**Pressão arterial sistólica** : (nivel de pressão nas arterias quando o coração bate) mmHg *systolic blood pressure (Continuous)*\n",
    "### Dia BP (diaBP) :\n",
    "**Pressão arterial diastólica** : (nivel de pressão nas arterias enquanto o coração está parado entre batidas) mmHg *diastolic blood pressure (Continuous)*\n",
    "* 120x80 é a pressão sistólica x pressão diastólica\n",
    "* superior a 140x90 = pressão alta\n",
    "* inferior a 90x60 = pressão baixa\n",
    "\n",
    "### BMI (BMI) :\n",
    "**Índice de massa corporal** : *Body Mass Index (Continuous)*\n",
    "* menor ou igual a 18.5 = baixo\n",
    "* maior que 18.5 e menor ou igual a 24.9 = normal\n",
    "* maior que 25.0 e menor ou igual a 29.9 = sobrepeso\n",
    "* maior que 30.0 e menor ou igual a 39.9 = obesidade\n",
    "* maior que 40.0 = obesidade grave\n",
    "\n",
    "### Heart Rate (heartRate) :\n",
    "**Frequência cardíaca** : *heart rate (Continuous - In medical research, variables such as heart rate though in fact discrete, yet are considered continuous because of large number of possible values.)*\n",
    "* menor ou igual a 60 = baixa\n",
    "* maior 60 e menor ou igual a 100 normal\n",
    "* maior que 100 = alta\n",
    "\n",
    "### Glucose (glucose) :\n",
    "**Glicose** : *glucose level (Continuous) Predict variable (desired target)*\n",
    "* menor ou igual a 99 = normal\n",
    "* maior que 99 e menor ou igual a 125 = pré diabetico\n",
    "* maior que 125 = diabetico\n",
    "\n",
    "### 10 year risk of coronary heart disease CHD (TenYearCHD) :\n",
    "**Risco de ter doença cardíaca em 10 anos** : *binary: “1”, means “Yes”, “0” means “No”*"
   ]
  },
  {
   "cell_type": "markdown",
   "metadata": {},
   "source": [
    "# Análise e manipulação do dataset"
   ]
  },
  {
   "cell_type": "code",
   "execution_count": 1,
   "metadata": {},
   "outputs": [
    {
     "data": {
      "text/plain": [
       "(4238, 16)"
      ]
     },
     "execution_count": 1,
     "metadata": {},
     "output_type": "execute_result"
    }
   ],
   "source": [
    "import pandas as pd\n",
    "arquivo = pd.read_csv('framingham.csv')\n",
    "arquivo.shape"
   ]
  },
  {
   "cell_type": "code",
   "execution_count": 2,
   "metadata": {},
   "outputs": [
    {
     "data": {
      "text/html": [
       "<div>\n",
       "<style scoped>\n",
       "    .dataframe tbody tr th:only-of-type {\n",
       "        vertical-align: middle;\n",
       "    }\n",
       "\n",
       "    .dataframe tbody tr th {\n",
       "        vertical-align: top;\n",
       "    }\n",
       "\n",
       "    .dataframe thead th {\n",
       "        text-align: right;\n",
       "    }\n",
       "</style>\n",
       "<table border=\"1\" class=\"dataframe\">\n",
       "  <thead>\n",
       "    <tr style=\"text-align: right;\">\n",
       "      <th></th>\n",
       "      <th>male</th>\n",
       "      <th>age</th>\n",
       "      <th>education</th>\n",
       "      <th>currentSmoker</th>\n",
       "      <th>cigsPerDay</th>\n",
       "      <th>BPMeds</th>\n",
       "      <th>prevalentStroke</th>\n",
       "      <th>prevalentHyp</th>\n",
       "      <th>diabetes</th>\n",
       "      <th>totChol</th>\n",
       "      <th>sysBP</th>\n",
       "      <th>diaBP</th>\n",
       "      <th>BMI</th>\n",
       "      <th>heartRate</th>\n",
       "      <th>glucose</th>\n",
       "      <th>TenYearCHD</th>\n",
       "    </tr>\n",
       "  </thead>\n",
       "  <tbody>\n",
       "    <tr>\n",
       "      <th>count</th>\n",
       "      <td>4238.000000</td>\n",
       "      <td>4238.000000</td>\n",
       "      <td>4133.000000</td>\n",
       "      <td>4238.000000</td>\n",
       "      <td>4209.000000</td>\n",
       "      <td>4185.000000</td>\n",
       "      <td>4238.000000</td>\n",
       "      <td>4238.000000</td>\n",
       "      <td>4238.000000</td>\n",
       "      <td>4188.000000</td>\n",
       "      <td>4238.000000</td>\n",
       "      <td>4238.000000</td>\n",
       "      <td>4219.000000</td>\n",
       "      <td>4237.000000</td>\n",
       "      <td>3850.000000</td>\n",
       "      <td>4238.000000</td>\n",
       "    </tr>\n",
       "    <tr>\n",
       "      <th>mean</th>\n",
       "      <td>0.429212</td>\n",
       "      <td>49.584946</td>\n",
       "      <td>1.978950</td>\n",
       "      <td>0.494101</td>\n",
       "      <td>9.003089</td>\n",
       "      <td>0.029630</td>\n",
       "      <td>0.005899</td>\n",
       "      <td>0.310524</td>\n",
       "      <td>0.025720</td>\n",
       "      <td>236.721585</td>\n",
       "      <td>132.352407</td>\n",
       "      <td>82.893464</td>\n",
       "      <td>25.802008</td>\n",
       "      <td>75.878924</td>\n",
       "      <td>81.966753</td>\n",
       "      <td>0.151958</td>\n",
       "    </tr>\n",
       "    <tr>\n",
       "      <th>std</th>\n",
       "      <td>0.495022</td>\n",
       "      <td>8.572160</td>\n",
       "      <td>1.019791</td>\n",
       "      <td>0.500024</td>\n",
       "      <td>11.920094</td>\n",
       "      <td>0.169584</td>\n",
       "      <td>0.076587</td>\n",
       "      <td>0.462763</td>\n",
       "      <td>0.158316</td>\n",
       "      <td>44.590334</td>\n",
       "      <td>22.038097</td>\n",
       "      <td>11.910850</td>\n",
       "      <td>4.080111</td>\n",
       "      <td>12.026596</td>\n",
       "      <td>23.959998</td>\n",
       "      <td>0.359023</td>\n",
       "    </tr>\n",
       "    <tr>\n",
       "      <th>min</th>\n",
       "      <td>0.000000</td>\n",
       "      <td>32.000000</td>\n",
       "      <td>1.000000</td>\n",
       "      <td>0.000000</td>\n",
       "      <td>0.000000</td>\n",
       "      <td>0.000000</td>\n",
       "      <td>0.000000</td>\n",
       "      <td>0.000000</td>\n",
       "      <td>0.000000</td>\n",
       "      <td>107.000000</td>\n",
       "      <td>83.500000</td>\n",
       "      <td>48.000000</td>\n",
       "      <td>15.540000</td>\n",
       "      <td>44.000000</td>\n",
       "      <td>40.000000</td>\n",
       "      <td>0.000000</td>\n",
       "    </tr>\n",
       "    <tr>\n",
       "      <th>25%</th>\n",
       "      <td>0.000000</td>\n",
       "      <td>42.000000</td>\n",
       "      <td>1.000000</td>\n",
       "      <td>0.000000</td>\n",
       "      <td>0.000000</td>\n",
       "      <td>0.000000</td>\n",
       "      <td>0.000000</td>\n",
       "      <td>0.000000</td>\n",
       "      <td>0.000000</td>\n",
       "      <td>206.000000</td>\n",
       "      <td>117.000000</td>\n",
       "      <td>75.000000</td>\n",
       "      <td>23.070000</td>\n",
       "      <td>68.000000</td>\n",
       "      <td>71.000000</td>\n",
       "      <td>0.000000</td>\n",
       "    </tr>\n",
       "    <tr>\n",
       "      <th>50%</th>\n",
       "      <td>0.000000</td>\n",
       "      <td>49.000000</td>\n",
       "      <td>2.000000</td>\n",
       "      <td>0.000000</td>\n",
       "      <td>0.000000</td>\n",
       "      <td>0.000000</td>\n",
       "      <td>0.000000</td>\n",
       "      <td>0.000000</td>\n",
       "      <td>0.000000</td>\n",
       "      <td>234.000000</td>\n",
       "      <td>128.000000</td>\n",
       "      <td>82.000000</td>\n",
       "      <td>25.400000</td>\n",
       "      <td>75.000000</td>\n",
       "      <td>78.000000</td>\n",
       "      <td>0.000000</td>\n",
       "    </tr>\n",
       "    <tr>\n",
       "      <th>75%</th>\n",
       "      <td>1.000000</td>\n",
       "      <td>56.000000</td>\n",
       "      <td>3.000000</td>\n",
       "      <td>1.000000</td>\n",
       "      <td>20.000000</td>\n",
       "      <td>0.000000</td>\n",
       "      <td>0.000000</td>\n",
       "      <td>1.000000</td>\n",
       "      <td>0.000000</td>\n",
       "      <td>263.000000</td>\n",
       "      <td>144.000000</td>\n",
       "      <td>89.875000</td>\n",
       "      <td>28.040000</td>\n",
       "      <td>83.000000</td>\n",
       "      <td>87.000000</td>\n",
       "      <td>0.000000</td>\n",
       "    </tr>\n",
       "    <tr>\n",
       "      <th>max</th>\n",
       "      <td>1.000000</td>\n",
       "      <td>70.000000</td>\n",
       "      <td>4.000000</td>\n",
       "      <td>1.000000</td>\n",
       "      <td>70.000000</td>\n",
       "      <td>1.000000</td>\n",
       "      <td>1.000000</td>\n",
       "      <td>1.000000</td>\n",
       "      <td>1.000000</td>\n",
       "      <td>696.000000</td>\n",
       "      <td>295.000000</td>\n",
       "      <td>142.500000</td>\n",
       "      <td>56.800000</td>\n",
       "      <td>143.000000</td>\n",
       "      <td>394.000000</td>\n",
       "      <td>1.000000</td>\n",
       "    </tr>\n",
       "  </tbody>\n",
       "</table>\n",
       "</div>"
      ],
      "text/plain": [
       "              male          age    education  currentSmoker   cigsPerDay  \\\n",
       "count  4238.000000  4238.000000  4133.000000    4238.000000  4209.000000   \n",
       "mean      0.429212    49.584946     1.978950       0.494101     9.003089   \n",
       "std       0.495022     8.572160     1.019791       0.500024    11.920094   \n",
       "min       0.000000    32.000000     1.000000       0.000000     0.000000   \n",
       "25%       0.000000    42.000000     1.000000       0.000000     0.000000   \n",
       "50%       0.000000    49.000000     2.000000       0.000000     0.000000   \n",
       "75%       1.000000    56.000000     3.000000       1.000000    20.000000   \n",
       "max       1.000000    70.000000     4.000000       1.000000    70.000000   \n",
       "\n",
       "            BPMeds  prevalentStroke  prevalentHyp     diabetes      totChol  \\\n",
       "count  4185.000000      4238.000000   4238.000000  4238.000000  4188.000000   \n",
       "mean      0.029630         0.005899      0.310524     0.025720   236.721585   \n",
       "std       0.169584         0.076587      0.462763     0.158316    44.590334   \n",
       "min       0.000000         0.000000      0.000000     0.000000   107.000000   \n",
       "25%       0.000000         0.000000      0.000000     0.000000   206.000000   \n",
       "50%       0.000000         0.000000      0.000000     0.000000   234.000000   \n",
       "75%       0.000000         0.000000      1.000000     0.000000   263.000000   \n",
       "max       1.000000         1.000000      1.000000     1.000000   696.000000   \n",
       "\n",
       "             sysBP        diaBP          BMI    heartRate      glucose  \\\n",
       "count  4238.000000  4238.000000  4219.000000  4237.000000  3850.000000   \n",
       "mean    132.352407    82.893464    25.802008    75.878924    81.966753   \n",
       "std      22.038097    11.910850     4.080111    12.026596    23.959998   \n",
       "min      83.500000    48.000000    15.540000    44.000000    40.000000   \n",
       "25%     117.000000    75.000000    23.070000    68.000000    71.000000   \n",
       "50%     128.000000    82.000000    25.400000    75.000000    78.000000   \n",
       "75%     144.000000    89.875000    28.040000    83.000000    87.000000   \n",
       "max     295.000000   142.500000    56.800000   143.000000   394.000000   \n",
       "\n",
       "        TenYearCHD  \n",
       "count  4238.000000  \n",
       "mean      0.151958  \n",
       "std       0.359023  \n",
       "min       0.000000  \n",
       "25%       0.000000  \n",
       "50%       0.000000  \n",
       "75%       0.000000  \n",
       "max       1.000000  "
      ]
     },
     "execution_count": 2,
     "metadata": {},
     "output_type": "execute_result"
    }
   ],
   "source": [
    "arquivo.describe()"
   ]
  },
  {
   "cell_type": "code",
   "execution_count": 3,
   "metadata": {},
   "outputs": [
    {
     "data": {
      "text/plain": [
       "male                 int64\n",
       "age                  int64\n",
       "education          float64\n",
       "currentSmoker        int64\n",
       "cigsPerDay         float64\n",
       "BPMeds             float64\n",
       "prevalentStroke      int64\n",
       "prevalentHyp         int64\n",
       "diabetes             int64\n",
       "totChol            float64\n",
       "sysBP              float64\n",
       "diaBP              float64\n",
       "BMI                float64\n",
       "heartRate          float64\n",
       "glucose            float64\n",
       "TenYearCHD           int64\n",
       "dtype: object"
      ]
     },
     "execution_count": 3,
     "metadata": {},
     "output_type": "execute_result"
    }
   ],
   "source": [
    "arquivo.dtypes"
   ]
  },
  {
   "cell_type": "code",
   "execution_count": 4,
   "metadata": {},
   "outputs": [
    {
     "data": {
      "text/plain": [
       "male                 0\n",
       "age                  0\n",
       "education          105\n",
       "currentSmoker        0\n",
       "cigsPerDay          29\n",
       "BPMeds              53\n",
       "prevalentStroke      0\n",
       "prevalentHyp         0\n",
       "diabetes             0\n",
       "totChol             50\n",
       "sysBP                0\n",
       "diaBP                0\n",
       "BMI                 19\n",
       "heartRate            1\n",
       "glucose            388\n",
       "TenYearCHD           0\n",
       "dtype: int64"
      ]
     },
     "execution_count": 4,
     "metadata": {},
     "output_type": "execute_result"
    }
   ],
   "source": [
    "arquivo.isna().sum()"
   ]
  },
  {
   "cell_type": "markdown",
   "metadata": {},
   "source": [
    "Como não são tantos os valores que tem NA, podemos jogar eles fora"
   ]
  },
  {
   "cell_type": "code",
   "execution_count": 5,
   "metadata": {},
   "outputs": [
    {
     "data": {
      "text/plain": [
       "(3656, 16)"
      ]
     },
     "execution_count": 5,
     "metadata": {},
     "output_type": "execute_result"
    }
   ],
   "source": [
    "arquivo = arquivo.dropna()\n",
    "arquivo.shape"
   ]
  },
  {
   "cell_type": "code",
   "execution_count": 6,
   "metadata": {},
   "outputs": [
    {
     "data": {
      "text/html": [
       "<div>\n",
       "<style scoped>\n",
       "    .dataframe tbody tr th:only-of-type {\n",
       "        vertical-align: middle;\n",
       "    }\n",
       "\n",
       "    .dataframe tbody tr th {\n",
       "        vertical-align: top;\n",
       "    }\n",
       "\n",
       "    .dataframe thead th {\n",
       "        text-align: right;\n",
       "    }\n",
       "</style>\n",
       "<table border=\"1\" class=\"dataframe\">\n",
       "  <thead>\n",
       "    <tr style=\"text-align: right;\">\n",
       "      <th></th>\n",
       "      <th>male</th>\n",
       "      <th>age</th>\n",
       "      <th>education</th>\n",
       "      <th>currentSmoker</th>\n",
       "      <th>cigsPerDay</th>\n",
       "      <th>BPMeds</th>\n",
       "      <th>prevalentStroke</th>\n",
       "      <th>prevalentHyp</th>\n",
       "      <th>diabetes</th>\n",
       "      <th>totChol</th>\n",
       "      <th>sysBP</th>\n",
       "      <th>diaBP</th>\n",
       "      <th>BMI</th>\n",
       "      <th>heartRate</th>\n",
       "      <th>glucose</th>\n",
       "      <th>TenYearCHD</th>\n",
       "    </tr>\n",
       "  </thead>\n",
       "  <tbody>\n",
       "    <tr>\n",
       "      <th>count</th>\n",
       "      <td>3656.000000</td>\n",
       "      <td>3656.000000</td>\n",
       "      <td>3656.000000</td>\n",
       "      <td>3656.000000</td>\n",
       "      <td>3656.000000</td>\n",
       "      <td>3656.000000</td>\n",
       "      <td>3656.000000</td>\n",
       "      <td>3656.000000</td>\n",
       "      <td>3656.000000</td>\n",
       "      <td>3656.000000</td>\n",
       "      <td>3656.000000</td>\n",
       "      <td>3656.000000</td>\n",
       "      <td>3656.000000</td>\n",
       "      <td>3656.000000</td>\n",
       "      <td>3656.000000</td>\n",
       "      <td>3656.000000</td>\n",
       "    </tr>\n",
       "    <tr>\n",
       "      <th>mean</th>\n",
       "      <td>0.443654</td>\n",
       "      <td>49.557440</td>\n",
       "      <td>1.979759</td>\n",
       "      <td>0.489059</td>\n",
       "      <td>9.022155</td>\n",
       "      <td>0.030361</td>\n",
       "      <td>0.005744</td>\n",
       "      <td>0.311543</td>\n",
       "      <td>0.027079</td>\n",
       "      <td>236.873085</td>\n",
       "      <td>132.368025</td>\n",
       "      <td>82.912062</td>\n",
       "      <td>25.784185</td>\n",
       "      <td>75.730580</td>\n",
       "      <td>81.856127</td>\n",
       "      <td>0.152352</td>\n",
       "    </tr>\n",
       "    <tr>\n",
       "      <th>std</th>\n",
       "      <td>0.496883</td>\n",
       "      <td>8.561133</td>\n",
       "      <td>1.022657</td>\n",
       "      <td>0.499949</td>\n",
       "      <td>11.918869</td>\n",
       "      <td>0.171602</td>\n",
       "      <td>0.075581</td>\n",
       "      <td>0.463187</td>\n",
       "      <td>0.162335</td>\n",
       "      <td>44.096223</td>\n",
       "      <td>22.092444</td>\n",
       "      <td>11.974825</td>\n",
       "      <td>4.065913</td>\n",
       "      <td>11.982952</td>\n",
       "      <td>23.910128</td>\n",
       "      <td>0.359411</td>\n",
       "    </tr>\n",
       "    <tr>\n",
       "      <th>min</th>\n",
       "      <td>0.000000</td>\n",
       "      <td>32.000000</td>\n",
       "      <td>1.000000</td>\n",
       "      <td>0.000000</td>\n",
       "      <td>0.000000</td>\n",
       "      <td>0.000000</td>\n",
       "      <td>0.000000</td>\n",
       "      <td>0.000000</td>\n",
       "      <td>0.000000</td>\n",
       "      <td>113.000000</td>\n",
       "      <td>83.500000</td>\n",
       "      <td>48.000000</td>\n",
       "      <td>15.540000</td>\n",
       "      <td>44.000000</td>\n",
       "      <td>40.000000</td>\n",
       "      <td>0.000000</td>\n",
       "    </tr>\n",
       "    <tr>\n",
       "      <th>25%</th>\n",
       "      <td>0.000000</td>\n",
       "      <td>42.000000</td>\n",
       "      <td>1.000000</td>\n",
       "      <td>0.000000</td>\n",
       "      <td>0.000000</td>\n",
       "      <td>0.000000</td>\n",
       "      <td>0.000000</td>\n",
       "      <td>0.000000</td>\n",
       "      <td>0.000000</td>\n",
       "      <td>206.000000</td>\n",
       "      <td>117.000000</td>\n",
       "      <td>75.000000</td>\n",
       "      <td>23.080000</td>\n",
       "      <td>68.000000</td>\n",
       "      <td>71.000000</td>\n",
       "      <td>0.000000</td>\n",
       "    </tr>\n",
       "    <tr>\n",
       "      <th>50%</th>\n",
       "      <td>0.000000</td>\n",
       "      <td>49.000000</td>\n",
       "      <td>2.000000</td>\n",
       "      <td>0.000000</td>\n",
       "      <td>0.000000</td>\n",
       "      <td>0.000000</td>\n",
       "      <td>0.000000</td>\n",
       "      <td>0.000000</td>\n",
       "      <td>0.000000</td>\n",
       "      <td>234.000000</td>\n",
       "      <td>128.000000</td>\n",
       "      <td>82.000000</td>\n",
       "      <td>25.380000</td>\n",
       "      <td>75.000000</td>\n",
       "      <td>78.000000</td>\n",
       "      <td>0.000000</td>\n",
       "    </tr>\n",
       "    <tr>\n",
       "      <th>75%</th>\n",
       "      <td>1.000000</td>\n",
       "      <td>56.000000</td>\n",
       "      <td>3.000000</td>\n",
       "      <td>1.000000</td>\n",
       "      <td>20.000000</td>\n",
       "      <td>0.000000</td>\n",
       "      <td>0.000000</td>\n",
       "      <td>1.000000</td>\n",
       "      <td>0.000000</td>\n",
       "      <td>263.250000</td>\n",
       "      <td>144.000000</td>\n",
       "      <td>90.000000</td>\n",
       "      <td>28.040000</td>\n",
       "      <td>82.000000</td>\n",
       "      <td>87.000000</td>\n",
       "      <td>0.000000</td>\n",
       "    </tr>\n",
       "    <tr>\n",
       "      <th>max</th>\n",
       "      <td>1.000000</td>\n",
       "      <td>70.000000</td>\n",
       "      <td>4.000000</td>\n",
       "      <td>1.000000</td>\n",
       "      <td>70.000000</td>\n",
       "      <td>1.000000</td>\n",
       "      <td>1.000000</td>\n",
       "      <td>1.000000</td>\n",
       "      <td>1.000000</td>\n",
       "      <td>600.000000</td>\n",
       "      <td>295.000000</td>\n",
       "      <td>142.500000</td>\n",
       "      <td>56.800000</td>\n",
       "      <td>143.000000</td>\n",
       "      <td>394.000000</td>\n",
       "      <td>1.000000</td>\n",
       "    </tr>\n",
       "  </tbody>\n",
       "</table>\n",
       "</div>"
      ],
      "text/plain": [
       "              male          age    education  currentSmoker   cigsPerDay  \\\n",
       "count  3656.000000  3656.000000  3656.000000    3656.000000  3656.000000   \n",
       "mean      0.443654    49.557440     1.979759       0.489059     9.022155   \n",
       "std       0.496883     8.561133     1.022657       0.499949    11.918869   \n",
       "min       0.000000    32.000000     1.000000       0.000000     0.000000   \n",
       "25%       0.000000    42.000000     1.000000       0.000000     0.000000   \n",
       "50%       0.000000    49.000000     2.000000       0.000000     0.000000   \n",
       "75%       1.000000    56.000000     3.000000       1.000000    20.000000   \n",
       "max       1.000000    70.000000     4.000000       1.000000    70.000000   \n",
       "\n",
       "            BPMeds  prevalentStroke  prevalentHyp     diabetes      totChol  \\\n",
       "count  3656.000000      3656.000000   3656.000000  3656.000000  3656.000000   \n",
       "mean      0.030361         0.005744      0.311543     0.027079   236.873085   \n",
       "std       0.171602         0.075581      0.463187     0.162335    44.096223   \n",
       "min       0.000000         0.000000      0.000000     0.000000   113.000000   \n",
       "25%       0.000000         0.000000      0.000000     0.000000   206.000000   \n",
       "50%       0.000000         0.000000      0.000000     0.000000   234.000000   \n",
       "75%       0.000000         0.000000      1.000000     0.000000   263.250000   \n",
       "max       1.000000         1.000000      1.000000     1.000000   600.000000   \n",
       "\n",
       "             sysBP        diaBP          BMI    heartRate      glucose  \\\n",
       "count  3656.000000  3656.000000  3656.000000  3656.000000  3656.000000   \n",
       "mean    132.368025    82.912062    25.784185    75.730580    81.856127   \n",
       "std      22.092444    11.974825     4.065913    11.982952    23.910128   \n",
       "min      83.500000    48.000000    15.540000    44.000000    40.000000   \n",
       "25%     117.000000    75.000000    23.080000    68.000000    71.000000   \n",
       "50%     128.000000    82.000000    25.380000    75.000000    78.000000   \n",
       "75%     144.000000    90.000000    28.040000    82.000000    87.000000   \n",
       "max     295.000000   142.500000    56.800000   143.000000   394.000000   \n",
       "\n",
       "        TenYearCHD  \n",
       "count  3656.000000  \n",
       "mean      0.152352  \n",
       "std       0.359411  \n",
       "min       0.000000  \n",
       "25%       0.000000  \n",
       "50%       0.000000  \n",
       "75%       0.000000  \n",
       "max       1.000000  "
      ]
     },
     "execution_count": 6,
     "metadata": {},
     "output_type": "execute_result"
    }
   ],
   "source": [
    "arquivo.describe()"
   ]
  },
  {
   "cell_type": "markdown",
   "metadata": {},
   "source": [
    "Como podemos ver, os valores não foram muito alterados depois de serem tirados os NAs."
   ]
  },
  {
   "cell_type": "code",
   "execution_count": 7,
   "metadata": {},
   "outputs": [
    {
     "data": {
      "text/plain": [
       "0    3099\n",
       "1     557\n",
       "Name: TenYearCHD, dtype: int64"
      ]
     },
     "execution_count": 7,
     "metadata": {},
     "output_type": "execute_result"
    }
   ],
   "source": [
    "arquivo['TenYearCHD'].value_counts()"
   ]
  },
  {
   "cell_type": "markdown",
   "metadata": {},
   "source": [
    "Observando que a maior parte dos valores são 0, isso pode ocasionar em problemas na solução, por isso vamos equilibrar a saída."
   ]
  },
  {
   "cell_type": "code",
   "execution_count": 8,
   "metadata": {},
   "outputs": [
    {
     "data": {
      "text/plain": [
       "1    557\n",
       "0    557\n",
       "Name: TenYearCHD, dtype: int64"
      ]
     },
     "execution_count": 8,
     "metadata": {},
     "output_type": "execute_result"
    }
   ],
   "source": [
    "arquivo = arquivo.sort_values(by=['TenYearCHD'])\n",
    "qnt = 2 * arquivo['TenYearCHD'].value_counts()[1]\n",
    "arquivo = arquivo[-qnt:]\n",
    "arquivo['TenYearCHD'].value_counts()"
   ]
  },
  {
   "cell_type": "markdown",
   "metadata": {},
   "source": [
    "Agora vamos pensar nas colunas.\n",
    "\n",
    "Vendo que as informações de:\n",
    "* Current Smoker = Cigs Per Day\n",
    "* Prevalent Hyp = Sys Bp + Dia BP\n",
    "* Diabetes = Glucose\n",
    "\n",
    "Podemos tirar algumas delas, mas para ter certeza vamos olhar a matrix de correlação."
   ]
  },
  {
   "cell_type": "code",
   "execution_count": 30,
   "metadata": {},
   "outputs": [
    {
     "data": {
      "image/png": "[encoded data removed]",
      "text/plain": [
       "<Figure size 1080x792 with 2 Axes>"
      ]
     },
     "metadata": {
      "needs_background": "light"
     },
     "output_type": "display_data"
    }
   ],
   "source": [
    "import matplotlib.pyplot as plt\n",
    "\n",
    "f = plt.figure(figsize=(15, 11))\n",
    "plt.matshow(arquivo.corr(), fignum=f.number)\n",
    "plt.xticks(range(arquivo.shape[1]), arquivo.columns, fontsize=12, rotation=45)\n",
    "plt.yticks(range(arquivo.shape[1]), arquivo.columns, fontsize=12)\n",
    "cb = plt.colorbar()\n",
    "cb.ax.tick_params(labelsize=14)\n",
    "plt.show()"
   ]
  },
  {
   "cell_type": "markdown",
   "metadata": {},
   "source": [
    "Obervando a matrix de correlação, realmente vemos que os valores se correlacionam bastante. Dessa forma vamos descarta-los.\n",
    "\n",
    "Serão descartadas **Cigs Per Day**, **Sys Bp**, **Dia Bp** e **Glucose** por conterem mais informação que seus pares."
   ]
  },
  {
   "cell_type": "code",
   "execution_count": 10,
   "metadata": {},
   "outputs": [
    {
     "data": {
      "text/plain": [
       "(1114, 12)"
      ]
     },
     "execution_count": 10,
     "metadata": {},
     "output_type": "execute_result"
    }
   ],
   "source": [
    "arquivo = arquivo.drop(columns=['cigsPerDay','sysBP','diaBP','glucose'])\n",
    "arquivo.shape"
   ]
  },
  {
   "cell_type": "markdown",
   "metadata": {},
   "source": [
    "Com as informações que julgamos não necessárias retiradas, vamos montar nossos datasets para a inteligência artificial\n",
    "\n",
    "Primeiro vamos dividir o nosso dataset em entrada (x) e saída (y) e em seguida dividir em treino (70%) e teste (30%)"
   ]
  },
  {
   "cell_type": "code",
   "execution_count": 11,
   "metadata": {},
   "outputs": [
    {
     "data": {
      "text/html": [
       "<div>\n",
       "<style scoped>\n",
       "    .dataframe tbody tr th:only-of-type {\n",
       "        vertical-align: middle;\n",
       "    }\n",
       "\n",
       "    .dataframe tbody tr th {\n",
       "        vertical-align: top;\n",
       "    }\n",
       "\n",
       "    .dataframe thead th {\n",
       "        text-align: right;\n",
       "    }\n",
       "</style>\n",
       "<table border=\"1\" class=\"dataframe\">\n",
       "  <thead>\n",
       "    <tr style=\"text-align: right;\">\n",
       "      <th></th>\n",
       "      <th>male</th>\n",
       "      <th>age</th>\n",
       "      <th>education</th>\n",
       "      <th>currentSmoker</th>\n",
       "      <th>BPMeds</th>\n",
       "      <th>prevalentStroke</th>\n",
       "      <th>prevalentHyp</th>\n",
       "      <th>diabetes</th>\n",
       "      <th>totChol</th>\n",
       "      <th>BMI</th>\n",
       "      <th>heartRate</th>\n",
       "    </tr>\n",
       "  </thead>\n",
       "  <tbody>\n",
       "    <tr>\n",
       "      <th>1522</th>\n",
       "      <td>1</td>\n",
       "      <td>51</td>\n",
       "      <td>4.0</td>\n",
       "      <td>1</td>\n",
       "      <td>0.0</td>\n",
       "      <td>0</td>\n",
       "      <td>1</td>\n",
       "      <td>0</td>\n",
       "      <td>269.0</td>\n",
       "      <td>30.39</td>\n",
       "      <td>85.0</td>\n",
       "    </tr>\n",
       "    <tr>\n",
       "      <th>1773</th>\n",
       "      <td>1</td>\n",
       "      <td>48</td>\n",
       "      <td>3.0</td>\n",
       "      <td>0</td>\n",
       "      <td>0.0</td>\n",
       "      <td>0</td>\n",
       "      <td>0</td>\n",
       "      <td>0</td>\n",
       "      <td>235.0</td>\n",
       "      <td>32.40</td>\n",
       "      <td>75.0</td>\n",
       "    </tr>\n",
       "    <tr>\n",
       "      <th>1523</th>\n",
       "      <td>0</td>\n",
       "      <td>40</td>\n",
       "      <td>2.0</td>\n",
       "      <td>0</td>\n",
       "      <td>0.0</td>\n",
       "      <td>0</td>\n",
       "      <td>0</td>\n",
       "      <td>0</td>\n",
       "      <td>190.0</td>\n",
       "      <td>26.13</td>\n",
       "      <td>93.0</td>\n",
       "    </tr>\n",
       "    <tr>\n",
       "      <th>1525</th>\n",
       "      <td>0</td>\n",
       "      <td>44</td>\n",
       "      <td>2.0</td>\n",
       "      <td>0</td>\n",
       "      <td>0.0</td>\n",
       "      <td>0</td>\n",
       "      <td>1</td>\n",
       "      <td>0</td>\n",
       "      <td>169.0</td>\n",
       "      <td>44.55</td>\n",
       "      <td>70.0</td>\n",
       "    </tr>\n",
       "    <tr>\n",
       "      <th>1526</th>\n",
       "      <td>0</td>\n",
       "      <td>36</td>\n",
       "      <td>3.0</td>\n",
       "      <td>1</td>\n",
       "      <td>0.0</td>\n",
       "      <td>0</td>\n",
       "      <td>0</td>\n",
       "      <td>0</td>\n",
       "      <td>220.0</td>\n",
       "      <td>21.34</td>\n",
       "      <td>95.0</td>\n",
       "    </tr>\n",
       "  </tbody>\n",
       "</table>\n",
       "</div>"
      ],
      "text/plain": [
       "      male  age  education  currentSmoker  BPMeds  prevalentStroke  \\\n",
       "1522     1   51        4.0              1     0.0                0   \n",
       "1773     1   48        3.0              0     0.0                0   \n",
       "1523     0   40        2.0              0     0.0                0   \n",
       "1525     0   44        2.0              0     0.0                0   \n",
       "1526     0   36        3.0              1     0.0                0   \n",
       "\n",
       "      prevalentHyp  diabetes  totChol    BMI  heartRate  \n",
       "1522             1         0    269.0  30.39       85.0  \n",
       "1773             0         0    235.0  32.40       75.0  \n",
       "1523             0         0    190.0  26.13       93.0  \n",
       "1525             1         0    169.0  44.55       70.0  \n",
       "1526             0         0    220.0  21.34       95.0  "
      ]
     },
     "execution_count": 11,
     "metadata": {},
     "output_type": "execute_result"
    }
   ],
   "source": [
    "colunas_entrada = arquivo.columns[:-1]\n",
    "x = arquivo[colunas_entrada]\n",
    "x.head()"
   ]
  },
  {
   "cell_type": "code",
   "execution_count": 12,
   "metadata": {},
   "outputs": [
    {
     "data": {
      "text/plain": [
       "1522    0\n",
       "1773    0\n",
       "1523    0\n",
       "1525    0\n",
       "1526    0\n",
       "Name: TenYearCHD, dtype: int64"
      ]
     },
     "execution_count": 12,
     "metadata": {},
     "output_type": "execute_result"
    }
   ],
   "source": [
    "colunas_saida = arquivo.columns[-1]\n",
    "y = arquivo[colunas_saida]\n",
    "y.head()"
   ]
  },
  {
   "cell_type": "markdown",
   "metadata": {},
   "source": [
    "Depois de separar os valores, vamos normalizar a entrada e conferir quais as variáveis mais influentes no resultado, para assim tirar as menos efetivas."
   ]
  },
  {
   "cell_type": "code",
   "execution_count": 13,
   "metadata": {},
   "outputs": [],
   "source": [
    "from sklearn.preprocessing import MinMaxScaler\n",
    "min_max_scaler = MinMaxScaler()\n",
    "x_norm = pd.DataFrame( min_max_scaler.fit_transform(x), columns=x.columns )"
   ]
  },
  {
   "cell_type": "code",
   "execution_count": 14,
   "metadata": {},
   "outputs": [
    {
     "data": {
      "text/plain": [
       "[(0.30437956587533743, 'heartRate'),\n",
       " (0.488034144430182, 'totChol'),\n",
       " (0.7572694717553006, 'BMI'),\n",
       " (1.4464944649446494, 'currentSmoker'),\n",
       " (1.880641925777332, 'education'),\n",
       " (8.0, 'prevalentStroke'),\n",
       " (12.379281102671182, 'age'),\n",
       " (14.362428842504745, 'male'),\n",
       " (15.51063829787234, 'BPMeds'),\n",
       " (16.953488372093023, 'diabetes'),\n",
       " (37.236363636363635, 'prevalentHyp')]"
      ]
     },
     "execution_count": 14,
     "metadata": {},
     "output_type": "execute_result"
    }
   ],
   "source": [
    "from sklearn.feature_selection import SelectKBest, chi2\n",
    "UnivariateFeatureSelection = SelectKBest(chi2, k='all').fit(x_norm, y)\n",
    "dicionario = {key:value for (key, value) in zip(UnivariateFeatureSelection.scores_, x_norm.columns)}\n",
    "sorted(dicionario.items())"
   ]
  },
  {
   "cell_type": "markdown",
   "metadata": {},
   "source": [
    "Tendo as informações mais importantes mostradas, vamos retirar as que tem valor menor que 10"
   ]
  },
  {
   "cell_type": "code",
   "execution_count": 15,
   "metadata": {},
   "outputs": [
    {
     "data": {
      "text/plain": [
       "(1114, 5)"
      ]
     },
     "execution_count": 15,
     "metadata": {},
     "output_type": "execute_result"
    }
   ],
   "source": [
    "x_norm = x_norm.drop(columns=['heartRate','currentSmoker','BMI','totChol', 'education', 'prevalentStroke'])\n",
    "x_norm.shape"
   ]
  },
  {
   "cell_type": "code",
   "execution_count": 16,
   "metadata": {},
   "outputs": [],
   "source": [
    "from sklearn.model_selection import train_test_split\n",
    "x_treino, x_teste, y_treino, y_teste = train_test_split( x_norm, y, test_size=0.3, random_state=1 )"
   ]
  },
  {
   "cell_type": "markdown",
   "metadata": {},
   "source": [
    "# Modelos\n",
    "Tendo nossas informações prontas, vamos para nossos modelos"
   ]
  },
  {
   "cell_type": "markdown",
   "metadata": {},
   "source": [
    "### Redes Neurais Artificiais"
   ]
  },
  {
   "cell_type": "code",
   "execution_count": 17,
   "metadata": {},
   "outputs": [],
   "source": [
    "import warnings\n",
    "warnings.filterwarnings(\"ignore\")\n",
    "\n",
    "from sklearn.neural_network import MLPClassifier\n",
    "clf = MLPClassifier(solver='adam', activation='relu', alpha=1e-5, hidden_layer_sizes=(5, 5, 5), random_state=1)\n",
    "clf.fit(x_treino, y_treino)\n",
    "predicao_RNN = clf.predict(x_teste)"
   ]
  },
  {
   "cell_type": "markdown",
   "metadata": {},
   "source": [
    "### K-Nearest Neighbors"
   ]
  },
  {
   "cell_type": "code",
   "execution_count": 18,
   "metadata": {},
   "outputs": [],
   "source": [
    "from sklearn.neighbors import KNeighborsClassifier\n",
    "modelo_KNN = KNeighborsClassifier(n_neighbors=5)\n",
    "modelo_KNN.fit(x_treino, y_treino)\n",
    "predicao_KNN = modelo_KNN.predict(x_teste)"
   ]
  },
  {
   "cell_type": "markdown",
   "metadata": {},
   "source": [
    "### SVC"
   ]
  },
  {
   "cell_type": "code",
   "execution_count": 19,
   "metadata": {},
   "outputs": [],
   "source": [
    "from sklearn.svm import SVC\n",
    "modelo_SVC = SVC()\n",
    "modelo_SVC.fit(x_treino, y_treino)\n",
    "predicao_SVC = modelo_SVC.predict(x_teste)"
   ]
  },
  {
   "cell_type": "markdown",
   "metadata": {},
   "source": [
    "# Métricas"
   ]
  },
  {
   "cell_type": "markdown",
   "metadata": {},
   "source": [
    "### Matrix de confusão"
   ]
  },
  {
   "cell_type": "code",
   "execution_count": 20,
   "metadata": {},
   "outputs": [
    {
     "data": {
      "text/plain": [
       "array([[ 98,  70],\n",
       "       [ 44, 123]], dtype=int64)"
      ]
     },
     "execution_count": 20,
     "metadata": {},
     "output_type": "execute_result"
    }
   ],
   "source": [
    "from sklearn.metrics import confusion_matrix\n",
    "conf_matrix_RNN = confusion_matrix(y_teste, predicao_RNN)\n",
    "conf_matrix_RNN"
   ]
  },
  {
   "cell_type": "code",
   "execution_count": 21,
   "metadata": {},
   "outputs": [
    {
     "data": {
      "text/plain": [
       "array([[ 86,  82],\n",
       "       [ 58, 109]], dtype=int64)"
      ]
     },
     "execution_count": 21,
     "metadata": {},
     "output_type": "execute_result"
    }
   ],
   "source": [
    "conf_matrix_KNN = confusion_matrix(y_teste, predicao_KNN)\n",
    "conf_matrix_KNN"
   ]
  },
  {
   "cell_type": "code",
   "execution_count": 22,
   "metadata": {},
   "outputs": [
    {
     "data": {
      "text/plain": [
       "array([[101,  67],\n",
       "       [ 49, 118]], dtype=int64)"
      ]
     },
     "execution_count": 22,
     "metadata": {},
     "output_type": "execute_result"
    }
   ],
   "source": [
    "conf_matrix_SVC = confusion_matrix(y_teste, predicao_SVC)\n",
    "conf_matrix_SVC"
   ]
  },
  {
   "cell_type": "markdown",
   "metadata": {},
   "source": [
    "### Acurácia"
   ]
  },
  {
   "cell_type": "code",
   "execution_count": 23,
   "metadata": {},
   "outputs": [
    {
     "name": "stdout",
     "output_type": "stream",
     "text": [
      "RNN -> 65.97%\n",
      "KNN -> 58.21%\n",
      "SVC -> 65.37%\n"
     ]
    }
   ],
   "source": [
    "from sklearn.metrics import accuracy_score\n",
    "print('RNN -> {0:0.2f}%'.format(accuracy_score(y_teste, predicao_RNN)*100))\n",
    "print('KNN -> {0:0.2f}%'.format(accuracy_score(y_teste, predicao_KNN)*100))\n",
    "print('SVC -> {0:0.2f}%'.format(accuracy_score(y_teste, predicao_SVC)*100))"
   ]
  },
  {
   "cell_type": "markdown",
   "metadata": {},
   "source": [
    "### Precisão"
   ]
  },
  {
   "cell_type": "code",
   "execution_count": 24,
   "metadata": {},
   "outputs": [
    {
     "name": "stdout",
     "output_type": "stream",
     "text": [
      "RNN -> 63.73%\n",
      "KNN -> 57.07%\n",
      "SVC -> 63.78%\n"
     ]
    }
   ],
   "source": [
    "from sklearn.metrics import precision_score\n",
    "print('RNN -> {0:0.2f}%'.format(precision_score(y_teste, predicao_RNN)*100))\n",
    "print('KNN -> {0:0.2f}%'.format(precision_score(y_teste, predicao_KNN)*100))\n",
    "print('SVC -> {0:0.2f}%'.format(precision_score(y_teste, predicao_SVC)*100))"
   ]
  },
  {
   "cell_type": "markdown",
   "metadata": {},
   "source": [
    "### Recall"
   ]
  },
  {
   "cell_type": "code",
   "execution_count": 25,
   "metadata": {},
   "outputs": [
    {
     "name": "stdout",
     "output_type": "stream",
     "text": [
      "RNN -> 73.65%\n",
      "KNN -> 65.27%\n",
      "SVC -> 70.66%\n"
     ]
    }
   ],
   "source": [
    "from sklearn.metrics import recall_score\n",
    "print('RNN -> {0:0.2f}%'.format(recall_score(y_teste, predicao_RNN)*100))\n",
    "print('KNN -> {0:0.2f}%'.format(recall_score(y_teste, predicao_KNN)*100))\n",
    "print('SVC -> {0:0.2f}%'.format(recall_score(y_teste, predicao_SVC)*100))"
   ]
  },
  {
   "cell_type": "markdown",
   "metadata": {},
   "source": [
    "### ROC"
   ]
  },
  {
   "cell_type": "code",
   "execution_count": 26,
   "metadata": {},
   "outputs": [
    {
     "name": "stdout",
     "output_type": "stream",
     "text": [
      "RNN -> 65.99%\n",
      "KNN -> 58.23%\n",
      "SVC -> 65.39%\n"
     ]
    }
   ],
   "source": [
    "from sklearn.metrics import roc_auc_score\n",
    "print('RNN -> {0:0.2f}%'.format(roc_auc_score(y_teste, predicao_RNN)*100))\n",
    "print('KNN -> {0:0.2f}%'.format(roc_auc_score(y_teste, predicao_KNN)*100))\n",
    "print('SVC -> {0:0.2f}%'.format(roc_auc_score(y_teste, predicao_SVC)*100))"
   ]
  },
  {
   "cell_type": "markdown",
   "metadata": {},
   "source": [
    "## Melhora dos resultados\n",
    "\n",
    "Pensando que temos muitas possibilidades possiveis de algoritmos, e cada algotimo tem muitas possibilidades de parâmetros, o ideal é testar todos que julgamos necessários, afim de descobrir qual o melhor conjunto possível\n",
    "\n",
    "Primeiro vamos definir os algoritmos e parâmetros que vamos testar"
   ]
  },
  {
   "cell_type": "code",
   "execution_count": 27,
   "metadata": {},
   "outputs": [],
   "source": [
    "from sklearn.model_selection import GridSearchCV\n",
    "from sklearn.neural_network import MLPClassifier\n",
    "from sklearn.neighbors import KNeighborsClassifier\n",
    "from sklearn.svm import SVC\n",
    "from sklearn.gaussian_process import GaussianProcessClassifier\n",
    "from sklearn.gaussian_process.kernels import RBF\n",
    "from sklearn.tree import DecisionTreeClassifier\n",
    "from sklearn.ensemble import RandomForestClassifier, AdaBoostClassifier\n",
    "from sklearn.naive_bayes import GaussianNB\n",
    "from sklearn.discriminant_analysis import QuadraticDiscriminantAnalysis\n",
    "\n",
    "\n",
    "\n",
    "nomes = ['RNN', 'KNeighbors', 'SVC', 'DecisionTree', \n",
    "         'RandomForest', 'AdaBoost', 'GaussianNB', 'QuadraticDiscriminant']\n",
    "algoritmos = [ MLPClassifier(hidden_layer_sizes=(5, 5, 5)), KNeighborsClassifier(),\n",
    "              SVC(), DecisionTreeClassifier(),\n",
    "             RandomForestClassifier(), AdaBoostClassifier(), GaussianNB(), QuadraticDiscriminantAnalysis() ]\n",
    "\n",
    "\n",
    "\n",
    "parametros_RNN = {'solver':('lbfgs', 'sgd', 'adam'),\n",
    "                  'activation':('tanh', 'relu'),\n",
    "                  'alpha':[1e-3, 1e-4, 1e-5, 1e-6]}\n",
    "\n",
    "parametros_KNeighbors= {'n_neighbors':[1, 3, 5, 7, 9],\n",
    "                        'weights':('uniform', 'distance')}\n",
    "\n",
    "parametros_SVC = {'kernel':('linear', 'poly', 'rbf'),\n",
    "                  'C':[1, 5, 10, 15, 20],\n",
    "                  'gamma':('auto', 'scale')}\n",
    "\n",
    "parametros_DecisionTree = {'criterion':('gini', 'entropy'),\n",
    "                          'splitter':('best', 'random'),\n",
    "                          'max_depth':[1, 3, 5, 7, 9]}\n",
    "\n",
    "parametros_RandomForest = {'n_estimators':[1, 10, 100],\n",
    "                          'max_depth':[1, 3, 5, 7, 9],\n",
    "                          'criterion':('gini', 'entropy')}\n",
    "\n",
    "parametros_AdaBoost = {'n_estimators':[10, 50, 100],\n",
    "                      'algorithm':('SAMME', 'SAMME.R')}\n",
    "\n",
    "parametros_GaussianNB = {'var_smoothing':[1e-5, 1e-6, 1e-7, 1e-8, 1e-9, 1e-10]}\n",
    "\n",
    "parametros_QuadraticDiscriminant = {'tol':[1e-1, 1e-2, 1e-3, 1e-4, 1e-5]}\n",
    "\n",
    "\n",
    "\n",
    "parametros = [ parametros_RNN, parametros_KNeighbors, parametros_SVC,\n",
    "             parametros_DecisionTree, parametros_RandomForest, parametros_AdaBoost,\n",
    "             parametros_GaussianNB, parametros_QuadraticDiscriminant]\n",
    "metricas = ['accuracy', 'precision', 'recall', 'roc_auc']\n",
    "qnt_testes = 10"
   ]
  },
  {
   "cell_type": "markdown",
   "metadata": {},
   "source": [
    "Agora vamos ver os melhores parâmetros por métrica de cada um dos algoritmos."
   ]
  },
  {
   "cell_type": "code",
   "execution_count": 28,
   "metadata": {},
   "outputs": [
    {
     "name": "stdout",
     "output_type": "stream",
     "text": [
      "RNN\n",
      "melhor accuracy -> 70.15%, com parâmetros -> {'activation': 'tanh', 'alpha': 0.0001, 'solver': 'adam'}\n",
      "melhor precision -> 70.73%, com parâmetros -> {'activation': 'tanh', 'alpha': 0.0001, 'solver': 'adam'}\n",
      "melhor recall -> 77.84%, com parâmetros -> {'activation': 'relu', 'alpha': 1e-06, 'solver': 'sgd'}\n",
      "melhor roc_auc -> 73.35%, com parâmetros -> {'activation': 'tanh', 'alpha': 0.0001, 'solver': 'adam'}\n",
      "\n",
      "\n",
      "KNeighbors\n",
      "melhor accuracy -> 64.78%, com parâmetros -> {'n_neighbors': 9, 'weights': 'uniform'}\n",
      "melhor precision -> 65.18%, com parâmetros -> {'n_neighbors': 3, 'weights': 'uniform'}\n",
      "melhor recall -> 67.71%, com parâmetros -> {'n_neighbors': 9, 'weights': 'uniform'}\n",
      "melhor roc_auc -> 68.97%, com parâmetros -> {'n_neighbors': 9, 'weights': 'uniform'}\n",
      "\n",
      "\n",
      "SVC\n",
      "melhor accuracy -> 69.25%, com parâmetros -> {'C': 20, 'gamma': 'auto', 'kernel': 'linear'}\n",
      "melhor precision -> 74.26%, com parâmetros -> {'C': 1, 'gamma': 'auto', 'kernel': 'poly'}\n",
      "melhor recall -> 69.50%, com parâmetros -> {'C': 1, 'gamma': 'auto', 'kernel': 'rbf'}\n",
      "melhor roc_auc -> 74.30%, com parâmetros -> {'C': 5, 'gamma': 'auto', 'kernel': 'linear'}\n",
      "\n",
      "\n",
      "DecisionTree\n",
      "melhor accuracy -> 67.16%, com parâmetros -> {'criterion': 'gini', 'max_depth': 1, 'splitter': 'best'}\n",
      "melhor precision -> 71.20%, com parâmetros -> {'criterion': 'gini', 'max_depth': 3, 'splitter': 'random'}\n",
      "melhor recall -> 78.45%, com parâmetros -> {'criterion': 'gini', 'max_depth': 1, 'splitter': 'best'}\n",
      "melhor roc_auc -> 70.86%, com parâmetros -> {'criterion': 'gini', 'max_depth': 3, 'splitter': 'best'}\n",
      "\n",
      "\n",
      "RandomForest\n",
      "melhor accuracy -> 68.66%, com parâmetros -> {'criterion': 'gini', 'max_depth': 1, 'n_estimators': 100}\n",
      "melhor precision -> 68.84%, com parâmetros -> {'criterion': 'gini', 'max_depth': 1, 'n_estimators': 100}\n",
      "melhor recall -> 70.07%, com parâmetros -> {'criterion': 'gini', 'max_depth': 1, 'n_estimators': 100}\n",
      "melhor roc_auc -> 73.63%, com parâmetros -> {'criterion': 'entropy', 'max_depth': 3, 'n_estimators': 10}\n",
      "\n",
      "\n",
      "AdaBoost\n",
      "melhor accuracy -> 70.75%, com parâmetros -> {'algorithm': 'SAMME', 'n_estimators': 10}\n",
      "melhor precision -> 70.94%, com parâmetros -> {'algorithm': 'SAMME', 'n_estimators': 10}\n",
      "melhor recall -> 72.48%, com parâmetros -> {'algorithm': 'SAMME', 'n_estimators': 10}\n",
      "melhor roc_auc -> 74.43%, com parâmetros -> {'algorithm': 'SAMME', 'n_estimators': 10}\n",
      "\n",
      "\n",
      "GaussianNB\n",
      "melhor accuracy -> 62.39%, com parâmetros -> {'var_smoothing': 1e-05}\n",
      "melhor precision -> 79.51%, com parâmetros -> {'var_smoothing': 1e-05}\n",
      "melhor recall -> 32.97%, com parâmetros -> {'var_smoothing': 1e-05}\n",
      "melhor roc_auc -> 73.06%, com parâmetros -> {'var_smoothing': 1e-05}\n",
      "\n",
      "\n",
      "QuadraticDiscriminant\n",
      "melhor accuracy -> 56.72%, com parâmetros -> {'tol': 0.1}\n",
      "melhor precision -> 74.33%, com parâmetros -> {'tol': 0.1}\n",
      "melhor recall -> 20.37%, com parâmetros -> {'tol': 0.1}\n",
      "melhor roc_auc -> 73.21%, com parâmetros -> {'tol': 0.1}\n",
      "\n",
      "\n"
     ]
    }
   ],
   "source": [
    "import numpy as np\n",
    "for i in range(len(algoritmos)):\n",
    "    classificador = GridSearchCV(algoritmos[i], parametros[i], cv=qnt_testes, scoring=metricas, refit=False)\n",
    "    resultado = classificador.fit(x_teste, y_teste)\n",
    "    param = resultado.cv_results_['params']\n",
    "    print(nomes[i])\n",
    "    for metrica in metricas:\n",
    "        rank = resultado.cv_results_['rank_test_' + metrica]\n",
    "        media = resultado.cv_results_['mean_test_' + metrica]\n",
    "        melhor_result = media[np.where(rank == 1)[0][0]]\n",
    "        melhores_param_result = param[np.where(rank == 1)[0][0]]\n",
    "        print('melhor {0} -> {1:0.2f}%, com parâmetros -> {2}'.format(metrica, melhor_result * 100, melhores_param_result))\n",
    "    print(\"\\n\")"
   ]
  },
  {
   "cell_type": "markdown",
   "metadata": {},
   "source": [
    "E por último, analisar a maior média das métricas de cada um dos possíveis parâmetros."
   ]
  },
  {
   "cell_type": "code",
   "execution_count": 29,
   "metadata": {},
   "outputs": [
    {
     "name": "stdout",
     "output_type": "stream",
     "text": [
      "RNN\n",
      "melhor média 71.02\n",
      "{'activation': 'relu', 'alpha': 1e-06, 'solver': 'lbfgs'}\n",
      "\n",
      "\n",
      "KNeighbors\n",
      "melhor média 66.51\n",
      "{'n_neighbors': 9, 'weights': 'uniform'}\n",
      "\n",
      "\n",
      "SVC\n",
      "melhor média 70.64\n",
      "{'C': 20, 'gamma': 'auto', 'kernel': 'linear'}\n",
      "\n",
      "\n",
      "DecisionTree\n",
      "melhor média 69.38\n",
      "{'criterion': 'gini', 'max_depth': 1, 'splitter': 'best'}\n",
      "\n",
      "\n",
      "RandomForest\n",
      "melhor média 70.61\n",
      "{'criterion': 'entropy', 'max_depth': 1, 'n_estimators': 100}\n",
      "\n",
      "\n",
      "AdaBoost\n",
      "melhor média 72.15\n",
      "{'algorithm': 'SAMME', 'n_estimators': 10}\n",
      "\n",
      "\n",
      "GaussianNB\n",
      "melhor média 61.98\n",
      "{'var_smoothing': 1e-05}\n",
      "\n",
      "\n",
      "QuadraticDiscriminant\n",
      "melhor média 56.16\n",
      "{'tol': 0.1}\n",
      "\n",
      "\n"
     ]
    }
   ],
   "source": [
    "for i in range(len(algoritmos)):\n",
    "    classificador = GridSearchCV(algoritmos[i], parametros[i], cv=qnt_testes, scoring=metricas, refit=False)\n",
    "    resultado = classificador.fit(x_teste, y_teste)\n",
    "    param = resultado.cv_results_['params']\n",
    "    melhor_media_metricas = 0\n",
    "    melhores_param = None\n",
    "    qnt = len(resultado.cv_results_['mean_test_' + metricas[0]])\n",
    "    for j in range(qnt):\n",
    "        media_metricas = 0\n",
    "        for metrica in metricas:\n",
    "            media_metricas += resultado.cv_results_['mean_test_' + metrica][j]\n",
    "        media_metricas /= len(metricas)\n",
    "        if media_metricas > melhor_media_metricas:\n",
    "            melhor_media_metricas = media_metricas\n",
    "            melhores_param = resultado.cv_results_['params'][j]\n",
    "    print(nomes[i])\n",
    "    print('melhor média {0:0.2f}'.format(melhor_media_metricas * 100))\n",
    "    print(melhores_param)\n",
    "    print('\\n')"
   ]
  },
  {
   "cell_type": "markdown",
   "metadata": {},
   "source": [
    "## Conclusão\n",
    "Depois de analisar a maior média das métricas, podemos tomar uma conclusão de qual são os melhores parâmetros, e qual o melhor algoritmo, chegando a uma conclusão de que para esse caso, o melhor algoritmo é o **AdaBoost**"
   ]
  },
  {
   "cell_type": "markdown",
   "metadata": {},
   "source": [
    "## Referências\n",
    "**Pandas** https://pandas.pydata.org/pandas-docs/stable/\n",
    "\n",
    "**MatPlotLib ColorBar** https://matplotlib.org/3.1.1/api/_as_gen/matplotlib.pyplot.colorbar.html\n",
    "\n",
    "**Min Max Scaler** https://scikit-learn.org/stable/modules/generated/sklearn.preprocessing.MinMaxScaler.html\n",
    "\n",
    "**Feature Selection** https://scikit-learn.org/stable/modules/feature_selection.html\n",
    "\n",
    "**MLPClassifier** https://scikit-learn.org/stable/modules/generated/sklearn.neural_network.MLPClassifier.html#sklearn.neural_network.MLPClassifier\n",
    "\n",
    "**KNeighborsClassifier** https://scikit-learn.org/stable/modules/generated/sklearn.neighbors.KNeighborsClassifier.html#sklearn.neighbors.KNeighborsClassifier\n",
    "\n",
    "**SVC** https://scikit-learn.org/stable/modules/generated/sklearn.svm.SVC.html#sklearn.svm.SVC\n",
    "\n",
    "**GaussianProcessClassifier** https://scikit-learn.org/stable/modules/generated/sklearn.gaussian_process.GaussianProcessClassifier.html#sklearn.gaussian_process.GaussianProcessClassifier\n",
    "\n",
    "**DecisionTreeClassifier** https://scikit-learn.org/stable/modules/generated/sklearn.tree.DecisionTreeClassifier.html#sklearn.tree.DecisionTreeClassifier\n",
    "\n",
    "**RandomForestClassifier** https://scikit-learn.org/stable/modules/generated/sklearn.ensemble.RandomForestClassifier.html#sklearn.ensemble.RandomForestClassifier\n",
    "\n",
    "**AdaBoostClassifier** https://scikit-learn.org/stable/modules/generated/sklearn.ensemble.AdaBoostClassifier.html\n",
    "\n",
    "**GaussianNB** https://scikit-learn.org/stable/modules/generated/sklearn.naive_bayes.GaussianNB.html\n",
    "\n",
    "**QuadraticDiscriminantAnalysis** https://scikit-learn.org/stable/modules/generated/sklearn.discriminant_analysis.QuadraticDiscriminantAnalysis.html"
   ]
  }
 ],
 "metadata": {
  "kernelspec": {
   "display_name": "Python 3",
   "language": "python",
   "name": "python3"
  },
  "language_info": {
   "codemirror_mode": {
    "name": "ipython",
    "version": 3
   },
   "file_extension": ".py",
   "mimetype": "text/x-python",
   "name": "python",
   "nbconvert_exporter": "python",
   "pygments_lexer": "ipython3",
   "version": "3.7.3"
  }
 },
 "nbformat": 4,
 "nbformat_minor": 2
}
