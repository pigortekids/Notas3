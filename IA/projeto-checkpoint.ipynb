{
 "cells": [
  {
   "cell_type": "markdown",
   "metadata": {},
   "source": [
    "# Variavéis (inglês):\n",
    "• Sex: male or female(Nominal) \n",
    "• Age: Age of the patient;(Continuous - Although the recorded ages have been truncated to whole numbers, the concept of age is continuous) Behavioral \n",
    "• Current Smoker: whether or not the patient is a current smoker (Nominal) \n",
    "• Cigs Per Day: the number of cigarettes that the person smoked on average in one day.(can be considered continuous as one can have any number of cigarettes, even half a cigarette.) Medical( history)\n",
    "• BP Meds: whether or not the patient was on blood pressure medication (Nominal) \n",
    "• Prevalent Stroke: whether or not the patient had previously had a stroke (Nominal)\n",
    "• Prevalent Hyp: whether or not the patient was hypertensive (Nominal)\n",
    "• Diabetes: whether or not the patient had diabetes (Nominal) Medical(current) \n",
    "• Tot Chol: total cholesterol level (Continuous) \n",
    "• Sys BP: systolic blood pressure (Continuous) \n",
    "• Dia BP: diastolic blood pressure (Continuous) \n",
    "• BMI: Body Mass Index (Continuous)\n",
    "• Heart Rate: heart rate (Continuous - In medical research, variables such as heart rate though in fact discrete, yet are considered continuous because of large number of possible values.) \n",
    "• Glucose: glucose level (Continuous) Predict variable (desired target)\n",
    "• 10 year risk of coronary heart disease CHD (binary: “1”, means “Yes”, “0” means “No”)"
   ]
  },
  {
   "cell_type": "markdown",
   "metadata": {},
   "source": [
    "# Variavéis (português):\n",
    "• Sex: Sexo\n",
    "• Age: Idade\n",
    "• Current Smoker: Fumante\n",
    "• Cigs Per Day: Cigarros por dia\n",
    "• BP Meds: Estava tomando remédio de pressão sanguínea\n",
    "• Prevalent Stroke: Já teve derrame\n",
    "• Prevalent Hyp: Tem hipertensão arterial (pressão alta)\n",
    "• Diabetes: Tem diabetes\n",
    "• Tot Chol: Nivel do colesterol\n",
    "\t<= 200 bom\n",
    "\t> 200 e <= 239 elevado\n",
    "\t> 240 alto\n",
    "• Sys BP: Pressão arterial sistólica (nivel de pressão nas arterias quando o coração bate) mmHg\n",
    "• Dia BP: Pressão arterial diastólica (nivel de pressão nas arterias enquanto o coração está parado entre batidas) mmHg\n",
    "\t120x80 é a pressão sistólica x pressão diastólica\n",
    "\tpressão alta: superior a 140x90\n",
    "\tpressão baixa: inferior a 90x60\n",
    "• BMI: Índice de massa corporal\n",
    "\t<= 18.5 baixo\n",
    "\t> 18.5 e <= 24.9 normal\n",
    "\t> 25.0 e <= 29.9 sobrepeso\n",
    "\t> 30.0 e <= 39.9 obesidade\n",
    "\t> 40.0 obesidade grave\n",
    "• Heart Rate: Frequência cardíaca\n",
    "\tentre 60 e 100\n",
    "• Glucose: Glicose\n",
    "\t<= 99 normal\n",
    "\t> 99 e <= 125 pré diabetico\n",
    "\t> 125 diabetico\n",
    "• 10 year risk of coronary heart disease CHD: Risco de ter doença cardíaca em 10 anos"
   ]
  },
  {
   "cell_type": "code",
   "execution_count": null,
   "metadata": {},
   "outputs": [],
   "source": []
  },
  {
   "cell_type": "code",
   "execution_count": null,
   "metadata": {},
   "outputs": [],
   "source": []
  },
  {
   "cell_type": "code",
   "execution_count": null,
   "metadata": {},
   "outputs": [],
   "source": []
  },
  {
   "cell_type": "code",
   "execution_count": null,
   "metadata": {},
   "outputs": [],
   "source": []
  },
  {
   "cell_type": "code",
   "execution_count": null,
   "metadata": {},
   "outputs": [],
   "source": []
  },
  {
   "cell_type": "code",
   "execution_count": null,
   "metadata": {},
   "outputs": [],
   "source": []
  },
  {
   "cell_type": "code",
   "execution_count": null,
   "metadata": {},
   "outputs": [],
   "source": []
  }
 ],
 "metadata": {
  "kernelspec": {
   "display_name": "Python 3",
   "language": "python",
   "name": "python3"
  },
  "language_info": {
   "codemirror_mode": {
    "name": "ipython",
    "version": 3
   },
   "file_extension": ".py",
   "mimetype": "text/x-python",
   "name": "python",
   "nbconvert_exporter": "python",
   "pygments_lexer": "ipython3",
   "version": "3.7.3"
  }
 },
 "nbformat": 4,
 "nbformat_minor": 2
}
